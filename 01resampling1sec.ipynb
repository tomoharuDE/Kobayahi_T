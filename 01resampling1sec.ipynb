{
 "cells": [
  {
   "cell_type": "code",
   "execution_count": 8,
   "metadata": {},
   "outputs": [],
   "source": [
    "import numpy as np\n",
    "import pandas as pd\n",
    "from scipy import interpolate\n",
    "from matplotlib import pyplot as plt"
   ]
  },
  {
   "cell_type": "code",
   "execution_count": 9,
   "metadata": {},
   "outputs": [],
   "source": [
    "df = pd.read_csv(\"users/user01f2/sample_ex.csv\")"
   ]
  },
  {
   "cell_type": "code",
   "execution_count": 10,
   "metadata": {},
   "outputs": [],
   "source": [
    "lx =pd.DataFrame(df.loc[:, [\"Left_x\", \"time_stamp\"]])\n",
    "# lx =pd.DataFrame(df.iloc[:,[0,8]])"
   ]
  },
  {
   "cell_type": "code",
   "execution_count": 11,
   "metadata": {},
   "outputs": [
    {
     "data": {
      "text/html": [
       "<div>\n",
       "<style scoped>\n",
       "    .dataframe tbody tr th:only-of-type {\n",
       "        vertical-align: middle;\n",
       "    }\n",
       "\n",
       "    .dataframe tbody tr th {\n",
       "        vertical-align: top;\n",
       "    }\n",
       "\n",
       "    .dataframe thead th {\n",
       "        text-align: right;\n",
       "    }\n",
       "</style>\n",
       "<table border=\"1\" class=\"dataframe\">\n",
       "  <thead>\n",
       "    <tr style=\"text-align: right;\">\n",
       "      <th></th>\n",
       "      <th>Left_x</th>\n",
       "      <th>time_stamp</th>\n",
       "    </tr>\n",
       "  </thead>\n",
       "  <tbody>\n",
       "    <tr>\n",
       "      <td>0</td>\n",
       "      <td>NaN</td>\n",
       "      <td>10:58:13.459062</td>\n",
       "    </tr>\n",
       "    <tr>\n",
       "      <td>1</td>\n",
       "      <td>NaN</td>\n",
       "      <td>10:58:13.485989</td>\n",
       "    </tr>\n",
       "    <tr>\n",
       "      <td>2</td>\n",
       "      <td>NaN</td>\n",
       "      <td>10:58:13.516424</td>\n",
       "    </tr>\n",
       "    <tr>\n",
       "      <td>3</td>\n",
       "      <td>NaN</td>\n",
       "      <td>10:58:13.545343</td>\n",
       "    </tr>\n",
       "    <tr>\n",
       "      <td>4</td>\n",
       "      <td>NaN</td>\n",
       "      <td>10:58:13.561300</td>\n",
       "    </tr>\n",
       "    <tr>\n",
       "      <td>...</td>\n",
       "      <td>...</td>\n",
       "      <td>...</td>\n",
       "    </tr>\n",
       "    <tr>\n",
       "      <td>259333</td>\n",
       "      <td>NaN</td>\n",
       "      <td>12:10:19.570400</td>\n",
       "    </tr>\n",
       "    <tr>\n",
       "      <td>259334</td>\n",
       "      <td>NaN</td>\n",
       "      <td>12:10:19.586350</td>\n",
       "    </tr>\n",
       "    <tr>\n",
       "      <td>259335</td>\n",
       "      <td>NaN</td>\n",
       "      <td>12:10:19.603301</td>\n",
       "    </tr>\n",
       "    <tr>\n",
       "      <td>259336</td>\n",
       "      <td>NaN</td>\n",
       "      <td>12:10:19.620288</td>\n",
       "    </tr>\n",
       "    <tr>\n",
       "      <td>259337</td>\n",
       "      <td>NaN</td>\n",
       "      <td>12:10:19.637215</td>\n",
       "    </tr>\n",
       "  </tbody>\n",
       "</table>\n",
       "<p>259338 rows × 2 columns</p>\n",
       "</div>"
      ],
      "text/plain": [
       "        Left_x       time_stamp\n",
       "0          NaN  10:58:13.459062\n",
       "1          NaN  10:58:13.485989\n",
       "2          NaN  10:58:13.516424\n",
       "3          NaN  10:58:13.545343\n",
       "4          NaN  10:58:13.561300\n",
       "...        ...              ...\n",
       "259333     NaN  12:10:19.570400\n",
       "259334     NaN  12:10:19.586350\n",
       "259335     NaN  12:10:19.603301\n",
       "259336     NaN  12:10:19.620288\n",
       "259337     NaN  12:10:19.637215\n",
       "\n",
       "[259338 rows x 2 columns]"
      ]
     },
     "execution_count": 11,
     "metadata": {},
     "output_type": "execute_result"
    }
   ],
   "source": [
    "lx"
   ]
  },
  {
   "cell_type": "code",
   "execution_count": 68,
   "metadata": {},
   "outputs": [],
   "source": [
    "arr = [0]*lx.shape[0]\n",
    "for i in range(lx.shape[0]):\n",
    "    arr[i] = pd.to_datetime(lx.iloc[i, 1]).timestamp()\n",
    "    \n"
   ]
  },
  {
   "cell_type": "code",
   "execution_count": 84,
   "metadata": {},
   "outputs": [],
   "source": [
    "u = [0.0]*lx.shape[0]\n",
    "for i in range(lx.shape[0]):\n",
    "    u[i] = arr[i] - arr[0]"
   ]
  },
  {
   "cell_type": "code",
   "execution_count": 85,
   "metadata": {},
   "outputs": [],
   "source": [
    "# # ここからサンプルとなる波形の作成-------------\n",
    "# # スムース関数\n",
    "# def smooth(x):\n",
    "#     a = 30\n",
    "#     y = np.tanh(x) / (1 + a * np.exp(- x))\n",
    "#     return y\n",
    " \n",
    "# A = 1    # 振幅\n",
    "# t0 = 0   # 初期時間[s]\n",
    "# tf = 10  # 終了時間[s]\n",
    "# dt = 0.2 # 時間刻み[s]\n",
    "# f = 1    # 周波数[Hz}\n",
    "# t = np.arange(t0, tf + dt, dt)  # 時間軸\n",
    " \n",
    "# # 滑らかに振幅増加する正弦波\n",
    "# y = smooth(t) * A * np.sin(2 * np.pi * f * t)\n",
    "# # ここまでサンプルとなる波形の作成-------------\n",
    " \n",
    "# 補間関数fを作成\n",
    "f = interpolate.interp1d(u, lx[\"Left_x\"], kind='linear',fill_value=\"extrapolate\")\n",
    " \n",
    "# # 補間した結果からリサンプリング波形を生成\n",
    "# num = 10000\n",
    "# t_resample = np.linspace(t0, tf, num)\n",
    "# y_resample = f(t_resample)              # f(t)"
   ]
  },
  {
   "cell_type": "code",
   "execution_count": 86,
   "metadata": {},
   "outputs": [],
   "source": [
    "# u = arr\n",
    "\n",
    "# u = [0.0]*lx.shape[0]\n",
    "# for i in range(lx.shape[0]):\n",
    "#     u[i] = arr[i] - arr[0]"
   ]
  },
  {
   "cell_type": "code",
   "execution_count": 87,
   "metadata": {},
   "outputs": [],
   "source": [
    "# u"
   ]
  },
  {
   "cell_type": "code",
   "execution_count": 89,
   "metadata": {},
   "outputs": [
    {
     "data": {
      "image/png": "[encoded data removed]",
      "text/plain": [
       "<Figure size 432x288 with 1 Axes>"
      ]
     },
     "metadata": {
      "needs_background": "light"
     },
     "output_type": "display_data"
    }
   ],
   "source": [
    "plt.plot(u[0:6000], f(u[0:6000]),'-')\n",
    "plt.grid(True)\n"
   ]
  },
  {
   "cell_type": "code",
   "execution_count": 90,
   "metadata": {},
   "outputs": [
    {
     "data": {
      "text/plain": [
       "[0.0,\n",
       " 0.02692699432373047,\n",
       " 0.05736184120178223,\n",
       " 0.08628082275390625,\n",
       " 0.10223793983459473,\n",
       " 0.11919283866882324,\n",
       " 0.1371448040008545,\n",
       " 0.15310382843017578,\n",
       " 0.170058012008667,\n",
       " 0.1870119571685791]"
      ]
     },
     "execution_count": 90,
     "metadata": {},
     "output_type": "execute_result"
    }
   ],
   "source": [
    "u[0:10]"
   ]
  },
  {
   "cell_type": "code",
   "execution_count": 91,
   "metadata": {},
   "outputs": [
    {
     "data": {
      "text/plain": [
       "0    10:58:13.459062\n",
       "1    10:58:13.485989\n",
       "2    10:58:13.516424\n",
       "3    10:58:13.545343\n",
       "4    10:58:13.561300\n",
       "5    10:58:13.578255\n",
       "6    10:58:13.596207\n",
       "7    10:58:13.612166\n",
       "8    10:58:13.629120\n",
       "9    10:58:13.646074\n",
       "Name: time_stamp, dtype: object"
      ]
     },
     "execution_count": 91,
     "metadata": {},
     "output_type": "execute_result"
    }
   ],
   "source": [
    "lx.iloc[0:10,1]"
   ]
  },
  {
   "cell_type": "code",
   "execution_count": 92,
   "metadata": {},
   "outputs": [
    {
     "data": {
      "text/plain": [
       "259338"
      ]
     },
     "execution_count": 92,
     "metadata": {},
     "output_type": "execute_result"
    }
   ],
   "source": [
    "len(u)"
   ]
  },
  {
   "cell_type": "code",
   "execution_count": 93,
   "metadata": {},
   "outputs": [
    {
     "data": {
      "text/plain": [
       "1608721093.646074"
      ]
     },
     "execution_count": 93,
     "metadata": {},
     "output_type": "execute_result"
    }
   ],
   "source": [
    "pd.to_datetime(lx.iloc[9,1]).timestamp()"
   ]
  },
  {
   "cell_type": "code",
   "execution_count": 94,
   "metadata": {},
   "outputs": [
    {
     "data": {
      "text/plain": [
       "4326"
      ]
     },
     "execution_count": 94,
     "metadata": {},
     "output_type": "execute_result"
    }
   ],
   "source": [
    "int(pd.to_datetime(lx.iloc[-1,1]).timestamp()) - int(pd.to_datetime(lx.iloc[0,1]).timestamp())"
   ]
  },
  {
   "cell_type": "code",
   "execution_count": 102,
   "metadata": {},
   "outputs": [],
   "source": [
    "num = 4327*5\n",
    "t_resample = np.linspace(int(pd.to_datetime(lx.iloc[0,1]).timestamp()) - int(pd.to_datetime(lx.iloc[0,1]).timestamp()), \n",
    "                         int(pd.to_datetime(lx.iloc[-1,1]).timestamp()) - int(pd.to_datetime(lx.iloc[0,1]).timestamp()), \n",
    "                         num)\n",
    "y_resample = f(t_resample)"
   ]
  },
  {
   "cell_type": "code",
   "execution_count": 1,
   "metadata": {},
   "outputs": [],
   "source": [
    "# for i in range(num):\n",
    "#     print(t_resample[i])\n",
    "#     print(y_resample[i])"
   ]
  },
  {
   "cell_type": "code",
   "execution_count": 104,
   "metadata": {},
   "outputs": [],
   "source": [
    "t = [0]*num\n",
    "for i in range(num):\n",
    "    t[i] = (t_resample[i]) - (t_resample[0])"
   ]
  },
  {
   "cell_type": "code",
   "execution_count": 106,
   "metadata": {
    "scrolled": true
   },
   "outputs": [
    {
     "data": {
      "image/png": "[encoded data removed]",
      "text/plain": [
       "<Figure size 432x288 with 1 Axes>"
      ]
     },
     "metadata": {
      "needs_background": "light"
     },
     "output_type": "display_data"
    }
   ],
   "source": [
    "plt.plot(t[:600], y_resample[:600],'-')\n",
    "plt.grid(True)"
   ]
  },
  {
   "cell_type": "code",
   "execution_count": 107,
   "metadata": {},
   "outputs": [
    {
     "data": {
      "text/plain": [
       "[0.0,\n",
       " 0.19996302117037995,\n",
       " 0.3999260423407599,\n",
       " 0.5998890635111398,\n",
       " 0.7998520846815198,\n",
       " 0.9998151058518998,\n",
       " 1.1997781270222796,\n",
       " 1.3997411481926596,\n",
       " 1.5997041693630396,\n",
       " 1.7996671905334196,\n",
       " 1.9996302117037996,\n",
       " 2.1995932328741796,\n",
       " 2.399556254044559,\n",
       " 2.599519275214939,\n",
       " 2.799482296385319,\n",
       " 2.999445317555699,\n",
       " 3.199408338726079,\n",
       " 3.399371359896459,\n",
       " 3.5993343810668392,\n",
       " 3.7992974022372192,\n",
       " 3.9992604234075992,\n",
       " 4.199223444577979,\n",
       " 4.399186465748359,\n",
       " 4.599149486918739,\n",
       " 4.799112508089118,\n",
       " 4.999075529259499,\n",
       " 5.199038550429878,\n",
       " 5.399001571600259,\n",
       " 5.598964592770638,\n",
       " 5.798927613941019]"
      ]
     },
     "execution_count": 107,
     "metadata": {},
     "output_type": "execute_result"
    }
   ],
   "source": [
    "t[0:30]"
   ]
  },
  {
   "cell_type": "code",
   "execution_count": 108,
   "metadata": {},
   "outputs": [
    {
     "data": {
      "text/plain": [
       "datetime.datetime(2020, 12, 23, 19, 58, 13, 646074)"
      ]
     },
     "execution_count": 108,
     "metadata": {},
     "output_type": "execute_result"
    }
   ],
   "source": [
    "import datetime\n",
    "datetime.datetime.fromtimestamp(pd.to_datetime(lx.iloc[9,1]).timestamp())"
   ]
  },
  {
   "cell_type": "code",
   "execution_count": 109,
   "metadata": {},
   "outputs": [],
   "source": [
    "arr2 = [0.0]*lx.shape[0]\n",
    "for i in range(lx.shape[0]):\n",
    "    arr2[i] = arr[i] - arr[0]"
   ]
  },
  {
   "cell_type": "code",
   "execution_count": 110,
   "metadata": {},
   "outputs": [
    {
     "data": {
      "text/plain": [
       "[0.0,\n",
       " 0.02692699432373047,\n",
       " 0.05736184120178223,\n",
       " 0.08628082275390625,\n",
       " 0.10223793983459473,\n",
       " 0.11919283866882324,\n",
       " 0.1371448040008545,\n",
       " 0.15310382843017578,\n",
       " 0.170058012008667,\n",
       " 0.1870119571685791,\n",
       " 0.20296883583068848,\n",
       " 0.2199249267578125,\n",
       " 0.2368779182434082,\n",
       " 0.2528369426727295,\n",
       " 0.27078700065612793,\n",
       " 0.2867448329925537,\n",
       " 0.30369997024536133,\n",
       " 0.3216519355773926,\n",
       " 0.3475840091705322,\n",
       " 0.3585548400878906,\n",
       " 0.3745098114013672,\n",
       " 0.38647890090942383,\n",
       " 0.40842199325561523,\n",
       " 0.44343090057373047,\n",
       " 0.4643828868865967,\n",
       " 0.495297908782959,\n",
       " 0.5157628059387207,\n",
       " 0.537700891494751,\n",
       " 0.5562689304351807,\n",
       " 0.5811758041381836]"
      ]
     },
     "execution_count": 110,
     "metadata": {},
     "output_type": "execute_result"
    }
   ],
   "source": [
    "arr2[0:30]"
   ]
  },
  {
   "cell_type": "code",
   "execution_count": 111,
   "metadata": {},
   "outputs": [
    {
     "data": {
      "image/png": "[encoded data removed]",
      "text/plain": [
       "<Figure size 432x288 with 1 Axes>"
      ]
     },
     "metadata": {
      "needs_background": "light"
     },
     "output_type": "display_data"
    }
   ],
   "source": [
    "plt.plot(arr2[0:6000], lx.iloc[0:6000, 0], '-')\n",
    "plt.grid(True)"
   ]
  }
 ],
 "metadata": {
  "kernelspec": {
   "display_name": "Python 3",
   "language": "python",
   "name": "python3"
  },
  "language_info": {
   "codemirror_mode": {
    "name": "ipython",
    "version": 3
   },
   "file_extension": ".py",
   "mimetype": "text/x-python",
   "name": "python",
   "nbconvert_exporter": "python",
   "pygments_lexer": "ipython3",
   "version": "3.9.1"
  }
 },
 "nbformat": 4,
 "nbformat_minor": 2
}
